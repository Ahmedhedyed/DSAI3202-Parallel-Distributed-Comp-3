{
 "cells": [
  {
   "cell_type": "code",
   "execution_count": 8,
   "id": "579ae7e5-b4df-4e15-b56c-aef915aa9a0b",
   "metadata": {},
   "outputs": [
    {
     "name": "stdout",
     "output_type": "stream",
     "text": [
      "32\n",
      "(32, 32)\n"
     ]
    }
   ],
   "source": [
    "# from mpi4py import MPI\n",
    "import numpy as np\n",
    "# import time\n",
    "# import genetic_algorithms_functions as gaf  # Import your functions\n",
    "\n",
    "# comm = MPI.COMM_WORLD\n",
    "# rank = comm.Get_rank()\n",
    "# size = comm.Get_size()\n",
    "\n",
    "# def parallel_fitness_evaluation(population, distance_matrix):\n",
    "#     \"\"\"\n",
    "#     Evaluate the fitness of a population in parallel using MPI.\n",
    "#     Each process computes the fitness for a portion of the population.\n",
    "#     \"\"\"\n",
    "#     n = len(population)\n",
    "#     # Determine each process's share of the population.\n",
    "#     chunk_size = n // size\n",
    "#     start = rank * chunk_size\n",
    "#     # Ensure the last process takes any remainder.\n",
    "#     end = n if rank == size - 1 else start + chunk_size\n",
    "#     local_population = population[start:end]\n",
    "    \n",
    "#     # Compute local fitness values.\n",
    "#     local_fitness = [gaf.calculate_fitness(route, distance_matrix) for route in local_population]\n",
    "    \n",
    "#     # Gather all local fitness results at the root process.\n",
    "#     all_fitness = comm.gather(local_fitness, root=0)\n",
    "    \n",
    "#     if rank == 0:\n",
    "#         # Flatten the list of lists.\n",
    "#         fitness = [f for sublist in all_fitness for f in sublist]\n",
    "#         return fitness\n",
    "#     else:\n",
    "#         return None\n",
    "\n",
    "# if __name__ == '__main__':\n",
    "#     if rank == 0:\n",
    "#         # For example, load the city distance matrix from CSV.\n",
    "distance_matrix = np.loadtxt(\"city_distances_updated.csv\", delimiter=\",\")\n",
    "num_nodes = distance_matrix.shape[0]\n",
    "print(num_nodes)\n",
    "print(distance_matrix.shape)\n",
    "    #     # Generate an initial population of candidate routes.\n",
    "    #     population = gaf.generate_unique_population(population_size=100, num_nodes=32)\n",
    "    #     start_time = time.time()\n",
    "    # else:\n",
    "    #     population = None\n",
    "    #     distance_matrix = None\n",
    "    #     start_time = None\n",
    "\n",
    "    # # Broadcast the population and the distance matrix to all processes.\n",
    "    # population = comm.bcast(population, root=0)\n",
    "    # distance_matrix = comm.bcast(distance_matrix, root=0)\n",
    "    \n",
    "    # # Perform parallel fitness evaluation.\n",
    "    # fitness = parallel_fitness_evaluation(population, distance_matrix)\n",
    "    \n",
    "    # if rank == 0:\n",
    "    #     end_time = time.time()\n",
    "    #     print(\"Parallel fitness evaluation took:\", end_time - start_time, \"seconds\")\n",
    "    #     print(\"Fitness values:\", fitness)\n"
   ]
  },
  {
   "cell_type": "code",
   "execution_count": null,
   "id": "1b2b1ac8-a52d-4e37-b290-b33a9e120e00",
   "metadata": {},
   "outputs": [],
   "source": []
  },
  {
   "cell_type": "code",
   "execution_count": null,
   "id": "c500688c-9c7b-4ed0-ba0d-fb0d1fc8c979",
   "metadata": {},
   "outputs": [],
   "source": []
  }
 ],
 "metadata": {
  "kernelspec": {
   "display_name": "Python 3 (ipykernel)",
   "language": "python",
   "name": "python3"
  },
  "language_info": {
   "codemirror_mode": {
    "name": "ipython",
    "version": 3
   },
   "file_extension": ".py",
   "mimetype": "text/x-python",
   "name": "python",
   "nbconvert_exporter": "python",
   "pygments_lexer": "ipython3",
   "version": "3.12.7"
  }
 },
 "nbformat": 4,
 "nbformat_minor": 5
}
