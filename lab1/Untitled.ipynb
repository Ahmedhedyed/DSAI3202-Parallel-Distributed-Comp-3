{
 "cells": [
  {
   "cell_type": "code",
   "execution_count": null,
   "id": "42e888cf-69f1-42d4-9013-db6c00926894",
   "metadata": {},
   "outputs": [],
   "source": []
  }
 ],
 "metadata": {
  "kernelspec": {
   "display_name": "",
   "name": ""
  },
  "language_info": {
   "name": ""
  }
 },
 "nbformat": 4,
 "nbformat_minor": 5
}
