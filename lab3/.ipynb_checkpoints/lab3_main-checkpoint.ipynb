{
 "cells": [
  {
   "cell_type": "code",
   "execution_count": 6,
   "id": "6c244822-299d-4715-9bc5-e7490341cc11",
   "metadata": {},
   "outputs": [],
   "source": [
    "import threading"
   ]
  },
  {
   "cell_type": "code",
   "execution_count": 9,
   "id": "18697d4c-544a-4ebe-bbc5-cdc72c611d92",
   "metadata": {},
   "outputs": [
    {
     "name": "stdout",
     "output_type": "stream",
     "text": [
      "Thread 0 started\n",
      "Thread 0 finished\n",
      "Thread 1 started\n",
      "Thread 1 finished\n",
      "Thread 2 started\n",
      "Thread 2 finished\n",
      "Thread 3 started\n",
      "Thread 3 finished\n",
      "All thread have finished\n"
     ]
    }
   ],
   "source": [
    "def worker (thread_id):\n",
    "    print (f\"Thread {thread_id} started\")\n",
    "    # Thread's code \n",
    "    print (f\"Thread {thread_id} finished\")\n",
    "\n",
    "\n",
    "# number of thread \n",
    "num_threads=4\n",
    "\n",
    "#start thread in the loop\n",
    "threads=[]\n",
    "\n",
    "for i in range (num_threads):\n",
    "    thread = threading.Thread(target=worker, args=(i,))\n",
    "    threads.append(thread)\n",
    "    thread.start()\n",
    "\n",
    "#wait for all thread to finish\n",
    "\n",
    "for thread in threads:\n",
    "    thread.join()\n",
    "\n",
    "print(\"All thread have finished\")\n",
    "\n",
    "\n"
   ]
  },
  {
   "cell_type": "code",
   "execution_count": null,
   "id": "1ec58611-ac4d-431c-9dd0-58e7c065e316",
   "metadata": {},
   "outputs": [],
   "source": []
  }
 ],
 "metadata": {
  "kernelspec": {
   "display_name": "Python 3 (ipykernel)",
   "language": "python",
   "name": "python3"
  },
  "language_info": {
   "codemirror_mode": {
    "name": "ipython",
    "version": 3
   },
   "file_extension": ".py",
   "mimetype": "text/x-python",
   "name": "python",
   "nbconvert_exporter": "python",
   "pygments_lexer": "ipython3",
   "version": "3.12.7"
  }
 },
 "nbformat": 4,
 "nbformat_minor": 5
}
