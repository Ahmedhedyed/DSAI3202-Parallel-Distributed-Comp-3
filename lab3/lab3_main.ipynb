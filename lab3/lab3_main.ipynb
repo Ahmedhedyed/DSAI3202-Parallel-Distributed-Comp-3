{
 "cells": [
  {
   "cell_type": "code",
   "execution_count": 22,
   "id": "6c244822-299d-4715-9bc5-e7490341cc11",
   "metadata": {},
   "outputs": [
    {
     "name": "stdout",
     "output_type": "stream",
     "text": [
      "The sequntionl calculation is completed and the Total sum is = 49999995000000 , It took 0.3067951202392578\n"
     ]
    }
   ],
   "source": [
    "#Sequantional method\n",
    "import time\n",
    "\n",
    "def worker ():\n",
    "    sum = 0\n",
    "    for i in  range(10000000):\n",
    "        sum+=i\n",
    "\n",
    "    return sum;\n",
    "    \n",
    "\n",
    "\n",
    "\n",
    "\n",
    "start_time=time.time()\n",
    "sum= worker()\n",
    "\n",
    "end_time=time.time()\n",
    "sequential_execution_time=end_time-start_time\n",
    "print(\"The sequntionl calculation is completed and the Total sum is = \" + str(sum) + \" , It took \" + str(sequential_execution_time) )\n",
    "\n",
    "\n"
   ]
  },
  {
   "cell_type": "code",
   "execution_count": 19,
   "id": "18697d4c-544a-4ebe-bbc5-cdc72c611d92",
   "metadata": {},
   "outputs": [
    {
     "name": "stdout",
     "output_type": "stream",
     "text": [
      "Thread 0 started\n",
      "\n",
      "Thread 1 started\n",
      "\n",
      "Thread 2 started\n",
      "\n",
      "Thread 3 started\n",
      "\n",
      "Thread 1 finished\n",
      "\n",
      "The total sum calculated by thread 1 is 9375001250000.\n",
      "Thread 3 finished\n",
      "\n",
      "The total sum calculated by thread 3 is 21875001250000.\n",
      "Thread 2 finished\n",
      "\n",
      "The total sum calculated by thread 2 is 15625001250000.\n",
      "Thread 0 finished\n",
      "\n",
      "The total sum calculated by thread 0 is 3125001250000.\n",
      "All threads have finished. The Total sum is 50000005000000, It took 0.3173544406890869 seconds.\n"
     ]
    }
   ],
   "source": [
    "import threading\n",
    "import time\n",
    "\n",
    "# Global total_sum variable (changed from 'sum' to avoid conflict with built-in sum function)\n",
    "total_sum = 0\n",
    "lock = threading.Lock()\n",
    "\n",
    "# Function that calculates the sum of a portion of the range\n",
    "def worker(thread_id, start, end):\n",
    "    global total_sum\n",
    "    print(f\"Thread {thread_id} started\\n\")\n",
    "    local_sum=0\n",
    "    # Calculate local sum for this thread's portion of the range\n",
    "    for i in range(start, end):\n",
    "        local_sum += i\n",
    "    \n",
    "    # Synchronize access to the global total_sum variable\n",
    "    with lock:\n",
    "        total_sum += local_sum\n",
    "    \n",
    "    print(f\"Thread {thread_id} finished\\n\")\n",
    "    print(f\"The total sum calculated by thread {thread_id} is {local_sum}.\")\n",
    "\n",
    "# Total range size\n",
    "n = 10000000  # Sum from 1 to n\n",
    "num_threads = 4  # Number of threads\n",
    "\n",
    "# Calculate the range size for each thread\n",
    "range_size = n // num_threads\n",
    "threads = []\n",
    "start_time = time.time()\n",
    "\n",
    "# Start threads\n",
    "for i in range(num_threads):\n",
    "    start = i * range_size + 1  # Starting number for this thread's range\n",
    "    end = (i + 1) * range_size + 1  # Ending number for this thread's range (exclusive)\n",
    "    if i == num_threads - 1:  # Make sure the last thread includes all the numbers up to n\n",
    "        end = n + 1\n",
    "    # Fix: Ensure you're passing the correct target function and arguments\n",
    "    thread = threading.Thread(target=worker, args=(i, start, end))\n",
    "    threads.append(thread)\n",
    "    thread.start()\n",
    "\n",
    "# Wait for all threads to finish\n",
    "for thread in threads:\n",
    "    thread.join()\n",
    "\n",
    "end_time = time.time()\n",
    "thread_execution_time = end_time - start_time\n",
    "\n",
    "print(f\"All threads have finished. The Total sum is {total_sum}, It took {thread_execution_time} seconds.\")\n",
    "\n"
   ]
  },
  {
   "cell_type": "code",
   "execution_count": 20,
   "id": "1ec58611-ac4d-431c-9dd0-58e7c065e316",
   "metadata": {},
   "outputs": [
    {
     "name": "stdout",
     "output_type": "stream",
     "text": [
      "Proecss 0 started\n",
      "\n",
      "Proecss 1 started\n",
      "\n",
      "Proecss 2 started\n",
      "\n",
      "Proecss 3 started\n",
      "\n",
      "Process 0 finished\n",
      "\n",
      "Process 1 finished\n",
      "The total sum calculated by process 0 is 3124998750000.\n",
      "\n",
      "The total sum calculated by process 1 is 9374998750000.\n",
      "Process 3 finished\n",
      "\n",
      "The total sum calculated by process 3 is 21874998750000.\n",
      "Process 2 finished\n",
      "\n",
      "The total sum calculated by process 2 is 15624998750000.\n",
      "All proecsses have finished and the Total sum is = 49999995000000 It took  + 0.10586881637573242\n"
     ]
    }
   ],
   "source": [
    "import multiprocessing\n",
    "import time\n",
    "sum = 0\n",
    "def worker (process_id, start, end, shared_data):\n",
    "    print (f\"Proecss {process_id} started\\n\")\n",
    "    local_sum=0\n",
    "\n",
    "    for i in  range(start, end):\n",
    "        local_sum+=i\n",
    "    shared_data['sum']+=local_sum\n",
    "    print (f\"Process {process_id} finished\\n\")\n",
    "    print(f\"The total sum calculated by process {process_id} is {local_sum}.\")\n",
    "\n",
    "\n",
    "# Range for summation\n",
    "n = 10000000  # Summing from 0 to 1 billion\n",
    "\n",
    "# number of processes \n",
    "num_processes=4\n",
    "\n",
    "# Calculate the range for each process\n",
    "range_size = n // num_processes\n",
    "\n",
    "#start processes in the loop\n",
    "processes=[]\n",
    "#creat Managert object to share the gloabl variable sum between proecsses \n",
    "manager=multiprocessing.Manager()\n",
    "\n",
    "#creat shared dictionary\n",
    "\n",
    "shared_data=manager.dict()\n",
    "shared_data['sum']=0\n",
    "\n",
    "\n",
    "start_time=time.time()\n",
    "for i in range (num_processes):\n",
    "    start = i * range_size\n",
    "    end = (i + 1) * range_size if i != num_processes - 1 else n  # Make sure the last process covers the remainder\n",
    "    process = multiprocessing.Process(target=worker, args=(i, start, end, shared_data))\n",
    "    processes.append(process)\n",
    "    process.start()\n",
    "\n",
    "#wait for all process to finish\n",
    "\n",
    "for process in processes:\n",
    "    process.join()\n",
    "end_time=time.time()\n",
    "\n",
    "process_execution_time =end_time-start_time\n",
    "print(f\"All proecsses have finished and the Total sum is = {shared_data['sum']} It took  + {process_execution_time }\" )\n"
   ]
  },
  {
   "cell_type": "code",
   "execution_count": 23,
   "id": "f1016e11-e851-4c07-9821-12c19b2a5497",
   "metadata": {},
   "outputs": [
    {
     "name": "stdout",
     "output_type": "stream",
     "text": [
      "The speedup using threads is 0.9667270436585002\n",
      "The speedup using processes is 2.897879949374614\n"
     ]
    }
   ],
   "source": [
    "\n",
    "#Calculate the speed up\n",
    "speedup_thread = sequential_execution_time/thread_execution_time\n",
    "speedup_processes = sequential_execution_time/process_execution_time\n",
    "\n",
    "print(f\"The speedup using threads is {speedup_thread}\")\n",
    "print(f\"The speedup using processes is {speedup_processes}\")"
   ]
  },
  {
   "cell_type": "code",
   "execution_count": 24,
   "id": "4dbe3157-3bbe-4491-897b-e0f5c1118bdd",
   "metadata": {},
   "outputs": [
    {
     "name": "stdout",
     "output_type": "stream",
     "text": [
      "The efficiency using threads is 0.24168176091462504\n",
      "The efficiency using processes is 0.7244699873436535\n"
     ]
    }
   ],
   "source": [
    "# Calculating Effecincy \n",
    "np = 4\n",
    "efficiency_thread = speedup_thread/np\n",
    "efficiency_processes = speedup_processes/np\n",
    "\n",
    "print(f\"The efficiency using threads is {efficiency_thread}\")\n",
    "print(f\"The efficiency using processes is {efficiency_processes}\")"
   ]
  },
  {
   "cell_type": "code",
   "execution_count": 25,
   "id": "24044cb6-86a4-4160-b4f9-9e2593ea82dc",
   "metadata": {},
   "outputs": [
    {
     "name": "stdout",
     "output_type": "stream",
     "text": [
      "99.99999999999991\n"
     ]
    }
   ],
   "source": [
    "#calculating amdhal_s law\n",
    "P = 0.99\n",
    "amdhal_s=1/(1-P)\n",
    "print(amdhal_s)"
   ]
  },
  {
   "cell_type": "code",
   "execution_count": 26,
   "id": "1ecadf2a-69fe-4862-b19c-6132da8184b8",
   "metadata": {},
   "outputs": [
    {
     "name": "stdout",
     "output_type": "stream",
     "text": [
      "3.9699999999999998\n"
     ]
    }
   ],
   "source": [
    "#calculating gustafson law\n",
    "alpha = 1-0.99\n",
    "gustafson= np - alpha*(np-1)\n",
    "print(gustafson)"
   ]
  },
  {
   "cell_type": "code",
   "execution_count": null,
   "id": "516074e3-170f-4235-a12d-d511e6a388d7",
   "metadata": {},
   "outputs": [],
   "source": []
  }
 ],
 "metadata": {
  "kernelspec": {
   "display_name": "Python 3 (ipykernel)",
   "language": "python",
   "name": "python3"
  },
  "language_info": {
   "codemirror_mode": {
    "name": "ipython",
    "version": 3
   },
   "file_extension": ".py",
   "mimetype": "text/x-python",
   "name": "python",
   "nbconvert_exporter": "python",
   "pygments_lexer": "ipython3",
   "version": "3.12.7"
  }
 },
 "nbformat": 4,
 "nbformat_minor": 5
}
